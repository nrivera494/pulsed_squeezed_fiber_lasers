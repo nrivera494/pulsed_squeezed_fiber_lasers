{
 "cells": [
  {
   "cell_type": "markdown",
   "metadata": {},
   "source": [
    "# Propagation of quantum noise in nonlinear systems"
   ]
  },
  {
   "cell_type": "markdown",
   "metadata": {},
   "source": [
    "## Overview of code"
   ]
  },
  {
   "cell_type": "markdown",
   "metadata": {},
   "source": [
    "This notebook contains routines to propagate pulses of light through compound systems involving one or more beamsplitters and Kerr nonlinear media. Future additions will also allow for propagation through amplifying media and resonant structures."
   ]
  },
  {
   "cell_type": "markdown",
   "metadata": {},
   "source": [
    "### Parameterization of quantum fields"
   ]
  },
  {
   "cell_type": "markdown",
   "metadata": {},
   "source": [
    "For the type of macroscopic pulses of light we consider, it is accurate to linearize the Heisenberg equations of motion about the mean-field solution and to solve for these functions at linear order (it is equivalent to taking the quartic Kerr Hamiltonian and retaining only quadratic terms). \n",
    "\n",
    "For any system we consider, the relevant mean-fields can be expressed as $\\alpha_{\\sigma}(z,t)$, where $\\sigma$ is a channel index, $z$ is the pulse coordinate, and $t$ is time. Since we will treat each $z$-position as a separate and approximately discrete degree of freedom, we will write $\\alpha_{i\\sigma}(t)$. Similarly, for the operator-valued fluctuations, we may express the set of fluctuation operators as:\n",
    "\\begin{equation}\n",
    "(\\delta a_1(\\xi_1) \\cdots \\delta a_1(\\xi_{N_z}),\\delta a_1^{\\dagger}(\\xi_1) \\cdots \\delta a_1^{\\dagger}(\\xi_{N_z}),\\cdots,\\delta a_{N_m}(\\xi_1) \\cdots \\delta a_{N_m}(\\xi_{N_z}),\\delta a_{N_m}^{\\dagger}(\\xi_1) \\cdots \\delta a_{N_m}^{\\dagger}(\\xi_{N_z}))^T,\n",
    "\\end{equation}\n",
    "where $N_z$ denotes the number of spatial points, taken to be the same for each channel, while $N_m$ denotes the number of channels (each time a beamsplitter is introduced, the channel number grows by 1). The number of degrees of freedom is $2N_zN_m$. \n",
    "\n",
    "The general form of any operator after nonlinear transformations, within the linearized framework is,\n",
    "\\begin{equation}\n",
    "\\delta a_{i\\sigma}^{\\text{out}} = \\sum\\limits_{j\\sigma'} \\mu_{i\\sigma,j\\sigma'}\\delta a^{\\text{in}}_{j\\sigma'} + \\nu_{i\\sigma,j\\sigma'}\\delta a^{\\dagger\\text{in}}_{j\\sigma'}.\n",
    "\\end{equation}\n",
    "Note that, for the commutator to be preserved, one requires:\n",
    "\\begin{equation}\n",
    "\\delta_{ij}\\delta_{\\sigma\\sigma'}= (\\mu\\mu^{\\dagger}-\\nu\\nu^{\\dagger})_{i\\sigma,j\\sigma'}.\n",
    "\\end{equation}\n",
    "\n",
    "Therefore, our fields are parameterized by $\\alpha_{i\\sigma},\\mu_{i\\sigma,j\\sigma'},\\nu_{i\\sigma,j\\sigma'},$ and the aim of the code will be to propagate these quantities through various elements (you can think of this as a nonlinear transfer matrix approach.)"
   ]
  },
  {
   "cell_type": "markdown",
   "metadata": {},
   "source": [
    "Our data matrix will be of the form (denoting the channels by numbers):\n",
    "\\begin{equation}\n",
    "M = \\begin{pmatrix}\n",
    "\\mu_{i1,j1} & \\nu_{i1,j1} & \\mu_{i1,j2} & \\nu_{i1,j2} & \\cdots & \\mu_{i1,jN_{\\sigma}} &\\nu_{i1,jN_{\\sigma}} \\\\\n",
    "\\mu_{i2,j1} & \\nu_{i2,j1} & \\mu_{i2,j2} & \\nu_{i2,j2} & \\cdots & \\mu_{i2,jN_{\\sigma}} &\\nu_{i2,jN_{\\sigma}} \\\\\n",
    "\\vdots & \\vdots & \\vdots & \\vdots & \\cdots & \\vdots & \\vdots \\\\\n",
    "\\mu_{iN_{\\sigma},j1} & \\nu_{iN_{\\sigma},j1} & \\mu_{iN_{\\sigma},j2} & \\nu_{iN_{\\sigma},j2} & \\cdots & \\mu_{iN_{\\sigma},jN_{\\sigma}} &\\nu_{iN_{\\sigma},jN_{\\sigma}},\n",
    "\\end{pmatrix}\n",
    "\\end{equation}\n",
    "where the $i,j$ indices denote blocks arranged by spatial position."
   ]
  },
  {
   "cell_type": "markdown",
   "metadata": {},
   "source": [
    "### Expression of operators"
   ]
  },
  {
   "cell_type": "markdown",
   "metadata": {},
   "source": [
    "We will ultimately be interested in the photon numbers and fluctuations of the different channels. The pulse photon number operator is given by (in discretized notation $a_{i\\sigma} = a_{\\sigma}(\\xi_i)$).\n",
    "\\begin{equation}\n",
    "n_\\sigma = \\sum_i a^{\\dagger}_{i\\sigma}a_{i\\sigma } \\approx \\sum\\limits_i \\alpha_{i\\sigma }^*\\delta a_{i\\sigma } + \\alpha_{i\\sigma }\\delta a^{\\dagger}_{i\\sigma}.\n",
    "\\end{equation}\n",
    "\n",
    "Expectation values of functions such as $n^2$ entail expectation values of operator products in the vacuum state, such as\n",
    "\\begin{align}\n",
    "\\langle a_{i\\sigma}a_{j\\sigma'}\\rangle &= \\sum\\limits_{k\\sigma''} \\mu_{i\\sigma,k\\sigma''}\\nu_{j\\sigma',k\\sigma''} = (\\mu\\nu^{\\dagger})_{i\\sigma,j\\sigma'}\\\\\n",
    "\\langle a_{i\\sigma}a^{\\dagger}_{j\\sigma'}\\rangle &= \\sum\\limits_{k\\sigma''} \\mu_{i\\sigma,k\\sigma''}\\mu^*_{j\\sigma',k\\sigma''} = (\\mu\\mu^{\\dagger})_{i\\sigma,j\\sigma'} \\\\\n",
    "\\langle a^{\\dagger}_{i\\sigma}a_{j\\sigma'}\\rangle &= \\sum\\limits_{k\\sigma''} \\nu^*_{i\\sigma,k\\sigma''}\\nu_{j\\sigma',k\\sigma''} = (\\nu^*\\nu^{T})_{i\\sigma,j\\sigma'} \\\\\n",
    "\\langle a^{\\dagger}_{i\\sigma}a^{\\dagger}_{j\\sigma'}\\rangle &= \\sum\\limits_{k\\sigma''} \\nu^*_{i\\sigma,k\\sigma''}\\mu^*_{j\\sigma',k\\sigma''} = (\\nu^*\\mu^{T})_{i\\sigma,j\\sigma'}.\n",
    "\\end{align}\n",
    "\n",
    "Thus, by getting the matrices of $\\mu$ and $\\nu$, we can calculate any quadratic products, which is precisely what we are after.\n"
   ]
  },
  {
   "cell_type": "markdown",
   "metadata": {},
   "source": [
    "### Transformation rules"
   ]
  },
  {
   "cell_type": "markdown",
   "metadata": {},
   "source": [
    "#### Broadband beamsplitter"
   ]
  },
  {
   "cell_type": "markdown",
   "metadata": {},
   "source": [
    "For a broadband beamsplitter coupling two-modes $\\alpha,\\beta$, the mean fields transform as:\n",
    "\\begin{align}\n",
    "\\alpha_i &\\rightarrow -r\\alpha_i + it\\beta_i \\\\\n",
    "\\beta_i &\\rightarrow it\\alpha_i - r\\beta_i,\n",
    "\\end{align}\n",
    "while the $\\mu,\\nu$ transform as:\n",
    "\\begin{align}\n",
    "\\mu_{i\\alpha,j\\sigma} &\\rightarrow -r\\mu_{i\\alpha,j\\sigma} + it\\mu_{i\\beta,j\\sigma} \\\\\n",
    "\\mu_{i\\beta,j\\sigma} &\\rightarrow it\\mu_{i\\alpha,j\\sigma} - r\\mu_{i\\beta,j\\sigma} \\\\\n",
    "\\nu_{i\\alpha,j\\sigma} &\\rightarrow -r\\nu_{i\\alpha,j\\sigma} + it\\nu_{i\\beta,j\\sigma}\\\\\n",
    "\\nu_{i\\beta,j\\sigma} &\\rightarrow it\\nu_{i\\alpha,j\\sigma} - r\\nu_{i\\beta,j\\sigma}\n",
    "\\end{align}"
   ]
  },
  {
   "cell_type": "markdown",
   "metadata": {},
   "source": [
    "#### Kerr nonlinear fiber"
   ]
  },
  {
   "cell_type": "markdown",
   "metadata": {},
   "source": [
    "The mean fields propagate according to the nonlinear Schrodinger equation:\n",
    "\\begin{equation}\n",
    "\\frac{\\partial}{\\partial t}\\alpha_i(t) = \\frac{iC}{2}D^2\\alpha_i(t) + iK|\\alpha_i(t)|^2\\alpha_i(t).\n",
    "\\end{equation}\n",
    "\n",
    "Let us now discuss units and normalizations. We wish to normalize $\\alpha_i$ such that $|\\alpha_i|^2$ represents the number of photons in the spatial size of width $\\delta z$, where $\\delta z$ is the elementary unit of length (could be $\\lambda$ for example for a sufficiently long pulse). Working in terms of these discretized operators renormalizes $K \\rightarrow K/\\Delta z$. The dimensions of the various coefficients are\n",
    "\\begin{equation}\n",
    "[C] = L^2T^{-1}, [K] = T^{-1}, [\\alpha] = 1.\n",
    "\\end{equation}\n",
    "Taking this into account, typical values of the relevant constants are\n",
    "\n",
    "1. $C = 22 \\times 10^3 \\text{fs}^2\\text{m}^{-1} \\times v_g^3$ (using Thorlabs dispersion data for the PM-1550XP). Note that the sign should be positive, given the relationship $d^2k/d\\omega^2 = -v_g^{-3}d^2\\omega/d\\beta^2$. The typical value for fibers at 1550 nm (https://www.rp-photonics.com/group_velocity_dispersion.html) is negative, which makes $C$ positive.\n",
    "\n",
    "2. $K = \\hbar\\omega\\gamma v_g^2 / \\Delta z$, where $\\gamma$ is the usual nonlinear fiber coefficient in units of $[\\text{power}\\times\\text{length}]^{-1}$ and $\\Delta z$ is the discretization length for the pulse (to convert photon density into photon number per discrete spatial point). \n",
    "\n",
    "3. Typical values of $\\alpha$ per cell are on the order of (for a 100 pJ pulse at 1550 nm) $8.3\\times10^8/N_{\\text{z}}$, where $N_z$ is the number of spatial slices in the pulse (this is loosely defined, and not that important: it is just meant to be a sanity check).\n",
    "\n",
    "4. The time step is some fraction of the overall propagation time, $L_{\\text{fiber}}/v_g$.\n",
    "\n",
    "Split step: the symmetric split-step is:\n",
    "- $a_i \\rightarrow iK|a_i|^2a_i \\Delta t/2$\n",
    "- $a_i \\rightarrow \\text{FT}^{-1}[e^{-iCk^2/2 \\Delta t}\\text{FT}[a_i]]$\n",
    "- $a_i \\rightarrow iK|a_i|^2a_i \\Delta t/2$.\n",
    "\n",
    "The symmetric step can also be done by fourier transforming twice."
   ]
  },
  {
   "cell_type": "markdown",
   "metadata": {},
   "source": [
    "The fluctuations propagate under the rule:\n",
    "A nonlinear fiber with only Kerr nonlinearity and second-order dispersion transforms the $\\mu$ and $\\nu$ in the following way:\n",
    "\n",
    "\\begin{equation}\n",
    "\\partial_t \\mu_{i\\sigma,j\\sigma'}(t) = \\frac{iC}{2}D^2\\mu_{i\\sigma,j\\sigma'}(t)+2iK|\\alpha_i(t)|^2\\mu_{i\\sigma,j\\sigma'}(t) + iK\\alpha_i^2(t)\\nu^*_{i\\sigma,j\\sigma'}(t) \\\\ \n",
    "\\partial_t \\nu_{i\\sigma,j\\sigma'}(t) = \\frac{iC}{2}D^2\\nu_{i\\sigma,j\\sigma'}(t)+2iK|\\alpha_i(t)|^2\\nu_{i\\sigma,j\\sigma'}(t) + iK\\alpha_i^2(t)\\mu^*_{i\\sigma,j\\sigma'}(t),\n",
    "\\end{equation}\n",
    "where $D$ is the discretized derivative operator.\n",
    "\n",
    "This will also be solved by split-step. First we FT and then we update according to the remaining terms (we use a second-order update.)"
   ]
  },
  {
   "cell_type": "markdown",
   "metadata": {},
   "source": [
    "#### Spectral filter"
   ]
  },
  {
   "cell_type": "markdown",
   "metadata": {},
   "source": [
    "A frequency-dependent filter effectively couples different spatial slots, as:\n",
    "\n",
    "\\begin{align}\n",
    "\\mu_{i\\alpha,j\\sigma} &\\rightarrow \\sum\\limits_{j}S_{11,ik}\\mu_{k\\alpha,j\\sigma} + S_{12,ik}\\mu_{k\\beta,j\\sigma} \\\\\n",
    "\\mu_{i\\beta,j\\sigma} &\\rightarrow \\sum\\limits_{j}S_{21,ik} \\mu_{k\\alpha,j\\sigma} + S_{22,ik}\\mu_{k\\beta,j\\sigma} \\\\\n",
    "\\nu_{i\\alpha,j\\sigma} &\\rightarrow \\sum\\limits_{j}S_{11,ik}\\nu_{k\\alpha,j\\sigma} + S_{12,ik}\\nu_{k\\beta,j\\sigma}\\\\\n",
    "\\nu_{i\\beta,j\\sigma} &\\rightarrow \\sum\\limits_{j}S_{21,ik} \\nu_{k\\alpha,j\\sigma} + S_{22,ik}\\nu_{k\\beta,j\\sigma}\n",
    "\\end{align}"
   ]
  },
  {
   "cell_type": "code",
   "execution_count": 1,
   "metadata": {},
   "outputs": [],
   "source": [
    "using LinearAlgebra\n",
    "using QuantumOptics\n",
    "using SparseArrays\n",
    "using Arpack\n",
    "using PyPlot\n",
    "using Distributions\n",
    "using Statistics\n",
    "using DelimitedFiles\n",
    "using ForwardDiff\n",
    "using QuadGK\n",
    "using Roots\n",
    "using Interpolations\n",
    "using DifferentialEquations\n",
    "using FFTW\n",
    "using CSV"
   ]
  },
  {
   "cell_type": "code",
   "execution_count": 2,
   "metadata": {},
   "outputs": [],
   "source": [
    "rcParams = PyPlot.PyDict(PyPlot.matplotlib.\"rcParams\")\n",
    "rcParams[\"font.size\"] = 12;\n",
    "rcParams[\"font.sans-serif\"] = \"Arial\";\n",
    "rcParams[\"figure.figsize\"] = (2,2);"
   ]
  },
  {
   "cell_type": "code",
   "execution_count": 3,
   "metadata": {},
   "outputs": [],
   "source": [
    "# Fundamental constants\n",
    "ħ = 1.05e-34;\n",
    "c_light = 3e8;\n",
    "ϵ0 = 8.85e-12;"
   ]
  },
  {
   "cell_type": "markdown",
   "metadata": {},
   "source": [
    "#### Functions"
   ]
  },
  {
   "cell_type": "markdown",
   "metadata": {},
   "source": [
    "Classes"
   ]
  },
  {
   "cell_type": "code",
   "execution_count": 4,
   "metadata": {},
   "outputs": [],
   "source": [
    "mutable struct beamsplitter\n",
    "    modes; \n",
    "    t::Float64;\n",
    "end\n",
    "\n",
    "mutable struct fiber\n",
    "    fiber_mode::Int64;\n",
    "    fiber_index::Float64; \n",
    "    fiber_length::Float64;\n",
    "    fiber_dispersion::Float64;\n",
    "    fiber_nonlinearity::Float64;\n",
    "end\n",
    "\n",
    "mutable struct sim\n",
    "    num_modes::Int64\n",
    "    N_z::Int64\n",
    "    z_grid #k_grid is derived from z-grid\n",
    "end\n",
    "\n",
    "mutable struct state\n",
    "    mean_fields\n",
    "    V_matrix ## the V matrix\n",
    "end"
   ]
  },
  {
   "cell_type": "markdown",
   "metadata": {},
   "source": [
    "Auxiliary functions"
   ]
  },
  {
   "cell_type": "code",
   "execution_count": 5,
   "metadata": {},
   "outputs": [
    {
     "data": {
      "text/plain": [
       "n2_exp (generic function with 1 method)"
      ]
     },
     "execution_count": 5,
     "metadata": {},
     "output_type": "execute_result"
    }
   ],
   "source": [
    "function fftfreq(n,fs)\n",
    "    if mod(n,2) == 0\n",
    "        freq = [0:n÷2-1; -n÷2:-1]  * fs/n; # if n is even\n",
    "        else \n",
    "        freq = [0:(n-1)÷2; -(n-1)÷2:-1]  * fs/n  # if n is odd\n",
    "    end\n",
    "\n",
    "    return 2*pi*freq\n",
    "end\n",
    "\n",
    "function get_row_index(i,σ)\n",
    "    index = (σ-1)*N_z + i;\n",
    "    return index\n",
    "end\n",
    "\n",
    "function get_column_index(i,σ)\n",
    "    index = (σ-1)*2*N_z + i;\n",
    "    return index\n",
    "end\n",
    "\n",
    "function get_ranges(mode_indices)\n",
    "    m_i = mode_indices[1];\n",
    "    m_j = mode_indices[2];\n",
    "    index_i_init = (m_i - 1)*N_z + 1;\n",
    "    index_i_final = (m_i)*N_z;\n",
    "    index_j_init = 2*(m_j - 1)*N_z + 1;\n",
    "    index_j_final = 2*(m_j)*N_z;\n",
    "    ranges = index_i_init:index_i_final,index_j_init:index_j_final\n",
    "    return ranges\n",
    "end\n",
    "\n",
    "function get_submatrix(mode_indices,V)\n",
    "    m_i = mode_indices[1];\n",
    "    m_j = mode_indices[2];\n",
    "    index_i_init = (m_i - 1)*N_z + 1;\n",
    "    index_i_final = (m_i)*N_z;\n",
    "    index_j_init = 2*(m_j - 1)*N_z + 1;\n",
    "    index_j_final = 2*(m_j)*N_z;\n",
    "    M = V[index_i_init:index_i_final,index_j_init:index_j_final];\n",
    "    return M\n",
    "end\n",
    "\n",
    "function get_μνmatrix(V,sim)\n",
    "    N_z = sim.N_z;\n",
    "    N_σ = sim.num_modes\n",
    "    μ_mat = 1.0im*zeros(N_z*N_σ,N_z*N_σ);\n",
    "    ν_mat = 1.0im*zeros(N_z*N_σ,N_z*N_σ);\n",
    "    for ii=1:N_z\n",
    "        for jj=1:N_z\n",
    "            for ss = 1:N_σ\n",
    "                for rr = 1:N_σ\n",
    "                    μ_mat[N_z*(ss-1)+ii,N_z*(rr-1)+jj] = V[N_z*(ss-1)+ii,2*N_z*(rr-1)+jj];\n",
    "                    ν_mat[N_z*(ss-1)+ii,N_z*(rr-1)+jj] = V[N_z*(ss-1)+ii,2*N_z*(rr-1)+jj+N_z]\n",
    "                end\n",
    "            end\n",
    "        end\n",
    "    end\n",
    "    return μ_mat,ν_mat\n",
    "end\n",
    "\n",
    "\n",
    "function check_commutator(state,sim)\n",
    "    V = state.V_matrix;\n",
    "    μ,ν = get_μνmatrix(V,sim);\n",
    "    val = norm(μ*adjoint(μ) - ν*adjoint(ν) - UniformScaling(1.0));\n",
    "    return val\n",
    "end\n",
    "\n",
    "\n",
    "function vacuum_V(sim)\n",
    "    N_σ = sim.num_modes;\n",
    "    N_z = sim.N_z;\n",
    "    \n",
    "    V_matrix = 1.0im*zeros(N_z*N_σ,2*N_z*N_σ);\n",
    "\n",
    "    for ii = 1:N_z\n",
    "        for ss = 1:N_σ\n",
    "            M_matrix = get_submatrix([ss,ss],V_matrix)\n",
    "            M_matrix[ii,ii] = 1.0+0.0*im;\n",
    "            V_matrix[get_ranges([ss,ss])[1],get_ranges([ss,ss])[2]] .= M_matrix;\n",
    "        end\n",
    "    end\n",
    "\n",
    "    V_init = copy(V_matrix);\n",
    "    \n",
    "    return V_init\n",
    "end\n",
    "\n",
    "function n2_exp(state,mode,sim)\n",
    "    \n",
    "    α = get_meanfield_i(state,mode)\n",
    "    V = state.V_matrix;\n",
    "    μ,ν = get_μνmatrix(V,sim)\n",
    "    N_z = sim.N_z;\n",
    "    \n",
    "    term1 = transpose(conj.(α))*(μ*transpose(ν))[1:N_z,1:N_z]*(conj.(α));\n",
    "    term2 = transpose(conj.(α))*(μ*adjoint(μ))[1:N_z,1:N_z]*(α);\n",
    "    term3 = transpose(α)*(conj.(ν)*transpose(ν))[1:N_z,1:N_z]*conj.(α);\n",
    "    term4 = transpose(α)*(conj.(ν)*adjoint(μ))[1:N_z,1:N_z]*α;\n",
    "    \n",
    "    n2 = term1 + term2 + term3 + term4;\n",
    "    return n2\n",
    "end"
   ]
  },
  {
   "cell_type": "markdown",
   "metadata": {},
   "source": [
    "Mean-field functions"
   ]
  },
  {
   "cell_type": "code",
   "execution_count": 6,
   "metadata": {},
   "outputs": [
    {
     "data": {
      "text/plain": [
       "fiber_meanfield (generic function with 1 method)"
      ]
     },
     "execution_count": 6,
     "metadata": {},
     "output_type": "execute_result"
    }
   ],
   "source": [
    "function BS_meanfield(state,sim,BS)\n",
    "    t = BS.t;\n",
    "    r = sqrt(1-t^2);\n",
    "    N_z = sim.N_z;\n",
    "    modes = BS.modes;\n",
    "    range_α = get_row_index(1,modes[1]):get_row_index(N_z,modes[1])\n",
    "    range_β = get_row_index(1,modes[2]):get_row_index(N_z,modes[2])\n",
    "    α = state.mean_fields[range_α];\n",
    "    β = state.mean_fields[range_β];\n",
    "    α_prime = -r*α + 1im*t*β;\n",
    "    β_prime = 1im*t*α - r*β;\n",
    "    state.mean_fields[range_α] .= α_prime;\n",
    "    state.mean_fields[range_β] .= β_prime;\n",
    "end\n",
    "\n",
    "function split_step_prop_singlestep(α,sim,fiber,dt,method)\n",
    "    # note that k_grid was already centered with fftshift\n",
    "    \n",
    "    z_grid = sim.z_grid;\n",
    "    Δz = z_grid[2] - z_grid[1];\n",
    "    K_fiber = fiber.fiber_nonlinearity / Δz;\n",
    "    fiber_dispersion = fiber.fiber_dispersion;\n",
    "    k_grid = fftfreq(sim.N_z,1/Δz)\n",
    "    \n",
    "    if method == \"nd\"\n",
    "        α += 1im*K_fiber*(abs2.(α)).*α*dt;\n",
    "        α = ifft(exp.(-1im/2*fiber_dispersion*(k_grid).^2*(dt)).*fft(α));\n",
    "    elseif method == \"dn\"\n",
    "        α = ifft(exp.(-1im/2*fiber_dispersion*(k_grid).^2*(dt)).*fft(α));\n",
    "        α += 1im*K_fiber*(abs2.(α)).*α*dt;\n",
    "    elseif method == \"dnd\"\n",
    "        α = ifft(exp.(-1im/2*fiber_dispersion*(k_grid).^2*(dt/2)).*fft(α));\n",
    "        α = exp.(1im*K_fiber*(abs2.(α))*dt).*α;\n",
    "        α = ifft(exp.(-1im/2*fiber_dispersion*(k_grid).^2*(dt/2)).*fft(α));\n",
    "    elseif method == \"ndn\"\n",
    "        α = exp.(1im*K_fiber*(abs2.(α))*dt/2).*α;\n",
    "        α = ifft(exp.(-1im/2*fiber_dispersion*(k_grid).^2*(dt)).*fft(α));\n",
    "        α = exp.(1im*K_fiber*(abs2.(α))*dt/2).*α;\n",
    "    end\n",
    "\n",
    "end\n",
    "\n",
    "function split_step_prop(α_init,sim,fiber,t_grid,method)\n",
    "    \n",
    "    z_grid = sim.z_grid;\n",
    "    Δz = z_grid[2] - z_grid[1];\n",
    "    K_fiber = fiber.fiber_nonlinearity / Δz;\n",
    "    fiber_dispersion = fiber.fiber_dispersion;\n",
    "    k_grid = fftfreq(sim.N_z,1/Δz)\n",
    "    N_steps = length(t_grid);\n",
    "    dt = t_grid[2] - t_grid[1];\n",
    "    \n",
    "    α_zt = 1.0im*zeros(N_steps,N_z);\n",
    "    α = copy(α_init);\n",
    "    for ii=1:N_steps\n",
    "        α = split_step_prop_singlestep(α,sim,fiber,dt,method)\n",
    "        α_zt[ii,:] = α;\n",
    "    end\n",
    "    return α_zt;\n",
    "end \n",
    "\n",
    "function fiber_meanfield(state,sim,fiber,t_grid)\n",
    "    mode = fiber.fiber_mode;\n",
    "    range_α = get_row_index(1,mode):get_row_index(N_z,mode)\n",
    "    α_init = state.mean_fields[range_α];\n",
    "    α_prime = split_step_prop(α_init,sim,fiber,t_grid,\"ndn\")\n",
    "    state.mean_fields[range_α] .= α_prime[end,:];\n",
    "    return α_prime;\n",
    "end"
   ]
  },
  {
   "cell_type": "code",
   "execution_count": 7,
   "metadata": {},
   "outputs": [
    {
     "data": {
      "text/plain": [
       "BS_transform_spectral (generic function with 1 method)"
      ]
     },
     "execution_count": 7,
     "metadata": {},
     "output_type": "execute_result"
    }
   ],
   "source": [
    "function BS_transform_broadband(V,t,modes,N_z,N_σ)\n",
    "    V_prime = copy(V);\n",
    "    α = modes[1];\n",
    "    β = modes[2];\n",
    "    V_cp = copy(V);\n",
    "    r = sqrt(1-t^2);\n",
    "    for ii=1:N_z\n",
    "        for jj=1:N_z\n",
    "            for ss=1:N_σ\n",
    "                μ_iαjσ = V_cp[N_z*(α-1)+ii,2*N_z*(ss-1)+jj];\n",
    "                μ_iβjσ = V_cp[N_z*(β-1)+ii,2*N_z*(ss-1)+jj];\n",
    "                ν_iαjσ = V_cp[N_z*(α-1)+ii,2*N_z*(ss-1)+jj+N_z];\n",
    "                ν_iβjσ = V_cp[N_z*(β-1)+ii,2*N_z*(ss-1)+jj+N_z];\n",
    "                \n",
    "                V_prime[N_z*(α-1)+ii,2*N_z*(ss-1)+jj] = -r*μ_iαjσ + 1im*t*μ_iβjσ;\n",
    "                V_prime[N_z*(β-1)+ii,2*N_z*(ss-1)+jj] = 1im*t*μ_iαjσ - r*μ_iβjσ;\n",
    "                V_prime[N_z*(α-1)+ii,2*N_z*(ss-1)+jj+N_z] = -r*ν_iαjσ + 1im*t*ν_iβjσ;\n",
    "                V_prime[N_z*(β-1)+ii,2*N_z*(ss-1)+jj+N_z] = 1im*t*ν_iαjσ - r*ν_iβjσ;\n",
    "            end\n",
    "        end\n",
    "    end\n",
    "    return V_prime\n",
    "end\n",
    "\n",
    "function BS_fluctuations(state,sim,BS)\n",
    "    t = BS.t;\n",
    "    r = sqrt(1-t^2);\n",
    "    N_z = sim.N_z;\n",
    "    BS_modes = BS.modes;\n",
    "    N_σ = sim.num_modes;\n",
    "    V = copy(state.V_matrix);\n",
    "    V = BS_transform_broadband(V,t,BS_modes,N_z,N_σ)\n",
    "    state.V_matrix = V;\n",
    "end\n",
    "\n",
    "\n",
    "function propagate_fluctuations_single_step(V_init,α_zt_fn,sim,fiber,t,dt)\n",
    "    # V_init is a 2N-dimensional vector and needs to be specified for each j,σ,σ'. For initial coherent states\n",
    "    # μ,ν are basis vectors (single 1).\n",
    "    \n",
    "    z_grid = sim.z_grid;\n",
    "    Δz = z_grid[2] - z_grid[1];\n",
    "    K_fiber = fiber.fiber_nonlinearity / Δz;\n",
    "    fiber_dispersion = fiber.fiber_dispersion;\n",
    "    k_grid = fftfreq(sim.N_z,1/Δz)\n",
    "    \n",
    "    # upgraded to second-order midpoint method;\n",
    "    μ_tmp = V_init[1:N_z];\n",
    "    ν_tmp = V_init[N_z+1:2*N_z];\n",
    "    \n",
    "    μ_tmp = ifft(exp.(-1im/2*fiber_dispersion*(k_grid).^2*(dt)).*fft(μ_tmp));\n",
    "    ν_tmp = ifft(exp.(-1im/2*fiber_dispersion*(k_grid).^2*(dt)).*fft(ν_tmp));\n",
    "    \n",
    "    # half-step advance for first-part of midpoint method\n",
    "    α_zt = α_zt_fn.(t,z_grid);\n",
    "    μ_tmp_half = μ_tmp + (2im*K_fiber*abs2.(α_zt).*μ_tmp + 1im*K_fiber*((α_zt).^2).*(conj.(ν_tmp)))*(dt/2);\n",
    "    ν_tmp_half = ν_tmp + (2im*K_fiber*abs2.(α_zt).*ν_tmp + 1im*K_fiber*((α_zt).^2).*(conj.(μ_tmp)))*(dt/2);\n",
    "    \n",
    "    # second part of midpoint\n",
    "    α_zt = α_zt_fn.(t+dt/2,z_grid);\n",
    "    μ_tmp = μ_tmp + (2im*K_fiber*abs2.(α_zt).*μ_tmp_half + 1im*K_fiber*((α_zt).^2).*(conj.(ν_tmp_half)))*(dt);\n",
    "    ν_tmp = ν_tmp + (2im*K_fiber*abs2.(α_zt).*ν_tmp_half + 1im*K_fiber*((α_zt).^2).*(conj.(μ_tmp_half)))*(dt);\n",
    "\n",
    "    # symmetrizing FT-SQZ-FT didn't appear to be too important here\n",
    "    μ = μ_tmp;\n",
    "    ν = ν_tmp;\n",
    "    V = [μ; ν]\n",
    "    return V\n",
    "end\n",
    "\n",
    "function fluctuation_prop(V_init,α_zt_fn,sim,fiber,t_grid)\n",
    "    dt = t_grid[2] - t_grid[1]; \n",
    "    V = V_init;\n",
    "    for tt in t_grid\n",
    "        V = propagate_fluctuations_single_step(V,α_zt_fn,sim,fiber,tt,dt)\n",
    "    end\n",
    "    return V\n",
    "end \n",
    "\n",
    "function fiber_fluctuations(state,sim,fiber,t_grid,α_fn)\n",
    "    \n",
    "    mode = fiber.fiber_mode;\n",
    "    V_initial = copy(state.V_matrix);\n",
    "    N_z = sim.N_z;\n",
    "    N_σ = sim.num_modes;\n",
    "    \n",
    "    for ss=1:N_σ\n",
    "        V_sub = get_submatrix([mode,ss],V_initial)\n",
    "        V_sub_tmp = copy(V_sub);\n",
    "        for ii=1:N_z\n",
    "            U_init = [V_sub_tmp[:,ii]; V_sub_tmp[:,ii+N_z]];\n",
    "            U_tmp = fluctuation_prop(U_init,α_fn,sim,fiber,t_grid[1:end-1]);\n",
    "            V_sub_tmp[:,ii] = U_tmp[1:N_z];\n",
    "            V_sub_tmp[:,ii+N_z] = U_tmp[N_z+1:2*N_z];\n",
    "        end\n",
    "        state.V_matrix[get_ranges([mode,ss])[1],get_ranges([mode,ss])[2]] .= V_sub_tmp;\n",
    "    end \n",
    "end\n",
    "\n",
    "function get_meanfield_i(state,mode)\n",
    "    range_mode = get_row_index(1,mode):get_row_index(N_z,mode);\n",
    "    field = state.mean_fields[range_mode];\n",
    "    return field\n",
    "end\n",
    "\n",
    "\n",
    "function BS_transform_spectral(V,S,modes)\n",
    "    \n",
    "    V_prime = copy(V);\n",
    "    α = modes[1];\n",
    "    β = modes[2];\n",
    "    V_cp = copy(V);\n",
    "    \n",
    "    for ii=1:N_z\n",
    "        for jj=1:N_z\n",
    "            for ss=1:N_σ\n",
    "                for kk=1:N_z\n",
    "                    \n",
    "                    S11 = S(ii,kk)[1,1];\n",
    "                    S12 = S(ii,kk)[1,2];\n",
    "                    S21 = S(ii,kk)[2,1];\n",
    "                    S22 = S(ii,kk)[2,2];\n",
    "                    \n",
    "                    μ_kαjσ = V_cp[N_z*(α-1)+kk,2*N_z*(ss-1)+jj];\n",
    "                    μ_kβjσ = V_cp[N_z*(β-1)+kk,2*N_z*(ss-1)+jj];\n",
    "                    ν_kαjσ = V_cp[N_z*(α-1)+kk,2*N_z*(ss-1)+jj+N_z];\n",
    "                    ν_kβjσ = V_cp[N_z*(β-1)+kk,2*N_z*(ss-1)+jj+N_z];\n",
    "                \n",
    "                    V_prime[N_z*(α-1)+ii,2*N_z*(ss-1)+jj] += S11*μ_kαjσ + S12*μ_kβjσ;\n",
    "                    V_prime[N_z*(β-1)+ii,2*N_z*(ss-1)+jj] += S21*μ_kαjσ + S22*μ_kβjσ;\n",
    "                    V_prime[N_z*(α-1)+ii,2*N_z*(ss-1)+jj+N_z] += S11*ν_kαjσ + S12*ν_kβjσ;\n",
    "                    V_prime[N_z*(β-1)+ii,2*N_z*(ss-1)+jj+N_z] += S21*ν_kαjσ + S22*ν_kβjσ;\n",
    "                end\n",
    "            end\n",
    "        end\n",
    "    end\n",
    "    \n",
    "    return V_prime\n",
    "end"
   ]
  },
  {
   "cell_type": "markdown",
   "metadata": {},
   "source": [
    "Run functions"
   ]
  },
  {
   "cell_type": "code",
   "execution_count": 8,
   "metadata": {},
   "outputs": [
    {
     "data": {
      "text/plain": [
       "prop_system (generic function with 1 method)"
      ]
     },
     "execution_count": 8,
     "metadata": {},
     "output_type": "execute_result"
    }
   ],
   "source": [
    "function prop_system_mean(components,state,sim,t_grid)\n",
    "    \n",
    "    z_grid = sim.z_grid\n",
    "    \n",
    "    for ii=1:length(components)\n",
    "        component = components[ii];\n",
    "        if typeof(component) == beamsplitter\n",
    "            BS_meanfield(state,sim,component);\n",
    "        elseif typeof(component) == fiber\n",
    "            α_zt = fiber_meanfield(state,sim,component,t_grid);\n",
    "        end\n",
    "    end\n",
    "\n",
    "end\n",
    "\n",
    "function prop_system(components,state,sim,t_grid)\n",
    "    \n",
    "    z_grid = sim.z_grid\n",
    "    \n",
    "    for ii=1:length(components)\n",
    "        component = components[ii];\n",
    "        if typeof(component) == beamsplitter\n",
    "            BS_meanfield(state,sim,component);\n",
    "            BS_fluctuations(state,sim,component);\n",
    "        elseif typeof(component) == fiber\n",
    "            α_zt = fiber_meanfield(state,sim,component,t_grid);\n",
    "            α_zt_fn = LinearInterpolation((t_grid,z_grid),α_zt);\n",
    "            fiber_fluctuations(state,sim,component,t_grid,α_zt_fn);\n",
    "        end\n",
    "    end\n",
    "\n",
    "end"
   ]
  },
  {
   "cell_type": "markdown",
   "metadata": {},
   "source": [
    "## Usage example 1: transfer curves and noise for a nonlinear Sagnac"
   ]
  },
  {
   "cell_type": "code",
   "execution_count": 49,
   "metadata": {},
   "outputs": [],
   "source": [
    "λ_center = 1560e-9;\n",
    "ω_center = 2*pi*c_light / λ_center;\n",
    "fiber_index = 1.47;\n",
    "v_group = c_light / fiber_index;\n",
    "fiber_dispersion = 1*22e3 * 1e-30 * v_group^3; # in m^2/s\n",
    "γ_fiber = 1.8*1e-3; # in 1/W/m.\n",
    "fiber_nonlinearity = ħ*(ω_center)*(v_group^2)*(γ_fiber);\n",
    "L_fiber = 10; # in meters\n",
    "T_fiber = L_fiber / v_group;\n",
    "\n",
    "# Pulse parameters - pulse time only makes sense for single-parameter pulses like sech / gaussian\n",
    "t_pulse = 100e-15; # in seconds\n",
    "L_pulse = v_group * t_pulse;\n",
    "\n",
    "L_sim = 50*L_pulse;\n",
    "N_z = 2^8;\n",
    "z_grid = collect(range(-L_sim/2,L_sim/2,length=N_z));\n",
    "\n",
    "N_t = 200;\n",
    "dt = T_fiber / N_t;\n",
    "t_grid = collect(range(0,T_fiber,length=N_t));"
   ]
  },
  {
   "cell_type": "code",
   "execution_count": 50,
   "metadata": {},
   "outputs": [],
   "source": [
    "sim_fbs = sim(2,2^8,z_grid);\n",
    "\n",
    "power_list = [0.01:0.025:2;]*1e4;\n",
    "\n",
    "photons_in = zeros(length(power_list));\n",
    "photons_out = zeros(length(power_list),sim_fbs.num_modes);\n",
    "photons_fluc = 1.0im*zeros(length(power_list),sim_fbs.num_modes);\n",
    "\n",
    "V_vac = vacuum_V(sim_fbs);\n",
    "\n",
    "bs1 = beamsplitter([1,2],sqrt(0.1));\n",
    "fiber1 = fiber(1,fiber_index,L_fiber,fiber_dispersion,fiber_nonlinearity);\n",
    "fiber2 = fiber(2,fiber_index,L_fiber,fiber_dispersion,fiber_nonlinearity);\n",
    "bs2 = beamsplitter([1,2],sqrt(0.1));\n",
    "\n",
    "components = [bs1 fiber1 fiber2 bs2];\n",
    "\n",
    "for ii=1:length(power_list)\n",
    "    \n",
    "    # Initializing the mean fields of the initial state\n",
    "    center_amplitude = power_list[ii];\n",
    "    state_sagnac = state(1.0im*zeros((sim_fbs.num_modes)*(sim_fbs.N_z)),V_vac);\n",
    "    range_mode1 = get_row_index(1,fiber1.fiber_mode):get_row_index(N_z,fiber1.fiber_mode);\n",
    "    state_sagnac.mean_fields[range_mode1] .= center_amplitude * sech.(sim_fbs.z_grid/L_pulse);\n",
    "    photons_in[ii] = sum(abs2.(get_meanfield_i(state_sagnac,1)));\n",
    "    \n",
    "    # Solving for mean-field and fluctuation dynamics\n",
    "    prop_system(components,state_sagnac,sim_fbs,t_grid)\n",
    "    \n",
    "    for ss=1:sim_fbs.num_modes\n",
    "        photons_out[ii,ss] = sum(abs2.(get_meanfield_i(state_sagnac,ss)));\n",
    "        photons_fluc[ii,ss] = n2_exp(state_sagnac,ss,sim_fbs);\n",
    "    end\n",
    "    \n",
    "end"
   ]
  },
  {
   "cell_type": "code",
   "execution_count": 51,
   "metadata": {},
   "outputs": [],
   "source": [
    "squeezing_sing = 10log10.(photons_fluc ./ photons_out);"
   ]
  },
  {
   "cell_type": "code",
   "execution_count": 64,
   "metadata": {},
   "outputs": [
    {
     "data": {
      "image/png": "[encoded data removed]",
      "text/plain": [
       "Figure(PyObject <Figure size 200x200 with 1 Axes>)"
      ]
     },
     "metadata": {},
     "output_type": "display_data"
    },
    {
     "data": {
      "text/plain": [
       "1-element Array{PyCall.PyObject,1}:\n",
       " PyObject <matplotlib.lines.Line2D object at 0x7f90d94ebef0>"
      ]
     },
     "execution_count": 64,
     "metadata": {},
     "output_type": "execute_result"
    }
   ],
   "source": [
    "#power_list = [0.01:0.025:2;]*1e4;\n",
    "plot(power_list.^2, photons_out[:,1])\n",
    "plot(power_list.^2, photons_out[:,2])\n",
    "plot(power_list.^2, photons_out[:,1]+photons_out[:,2])"
   ]
  },
  {
   "cell_type": "code",
   "execution_count": 70,
   "metadata": {},
   "outputs": [
    {
     "data": {
      "image/png": "[encoded data removed]",
      "text/plain": [
       "Figure(PyObject <Figure size 200x200 with 1 Axes>)"
      ]
     },
     "metadata": {},
     "output_type": "display_data"
    },
    {
     "data": {
      "text/plain": [
       "1-element Array{PyCall.PyObject,1}:\n",
       " PyObject <matplotlib.lines.Line2D object at 0x7f9098adfe80>"
      ]
     },
     "execution_count": 70,
     "metadata": {},
     "output_type": "execute_result"
    }
   ],
   "source": [
    "plot(power_list.^2, squeezing_sing[:,1])"
   ]
  },
  {
   "cell_type": "markdown",
   "metadata": {},
   "source": [
    "## Usage example 2: same as above for a double Sagnac"
   ]
  },
  {
   "cell_type": "code",
   "execution_count": 66,
   "metadata": {},
   "outputs": [],
   "source": [
    "sim_fbs = sim(3,2^8,z_grid);\n",
    "\n",
    "power_list = [0.01:0.025:2;]*1e4;\n",
    "\n",
    "photons_in = zeros(length(power_list));\n",
    "photons_out = zeros(length(power_list),sim_fbs.num_modes);\n",
    "photons_fluc = 1.0im*zeros(length(power_list),sim_fbs.num_modes);\n",
    "\n",
    "V_vac = vacuum_V(sim_fbs);\n",
    "\n",
    "bs1 = beamsplitter([1,2],sqrt(0.1));\n",
    "fiber1 = fiber(1,fiber_index,L_fiber,fiber_dispersion,fiber_nonlinearity);\n",
    "fiber2 = fiber(2,fiber_index,L_fiber,fiber_dispersion,fiber_nonlinearity);\n",
    "bs2 = beamsplitter([1,2],sqrt(0.1));\n",
    "\n",
    "bs3 = beamsplitter([1,3],sqrt(0.1));\n",
    "fiber3 = fiber(1,fiber_index,L_fiber,fiber_dispersion,fiber_nonlinearity);\n",
    "fiber4 = fiber(3,fiber_index,L_fiber,fiber_dispersion,fiber_nonlinearity);\n",
    "bs4 = beamsplitter([1,3],sqrt(0.1));\n",
    "\n",
    "components = [bs1 fiber1 fiber2 bs2 bs3 fiber3 fiber4 bs4];\n",
    "\n",
    "for ii=1:length(power_list)\n",
    "    \n",
    "    # Initializing the mean fields of the initial state\n",
    "    center_amplitude = power_list[ii];\n",
    "    state_sagnac = state(1.0im*zeros((sim_fbs.num_modes)*(sim_fbs.N_z)),V_vac);\n",
    "    range_mode1 = get_row_index(1,fiber1.fiber_mode):get_row_index(N_z,fiber1.fiber_mode);\n",
    "    state_sagnac.mean_fields[range_mode1] .= center_amplitude * sech.(sim_fbs.z_grid/L_pulse);\n",
    "    photons_in[ii] = sum(abs2.(get_meanfield_i(state_sagnac,1)));\n",
    "    \n",
    "    # Solving for mean-field and fluctuation dynamics\n",
    "    prop_system(components,state_sagnac,sim_fbs,t_grid)\n",
    "    \n",
    "    for ss=1:sim_fbs.num_modes\n",
    "        photons_out[ii,ss] = sum(abs2.(get_meanfield_i(state_sagnac,ss)));\n",
    "        photons_fluc[ii,ss] = n2_exp(state_sagnac,ss,sim_fbs);\n",
    "    end\n",
    "    \n",
    "end"
   ]
  },
  {
   "cell_type": "code",
   "execution_count": 67,
   "metadata": {},
   "outputs": [],
   "source": [
    "squeezing_dbl = 10log10.(photons_fluc ./ photons_out);"
   ]
  },
  {
   "cell_type": "code",
   "execution_count": 68,
   "metadata": {},
   "outputs": [
    {
     "data": {
      "image/png": "[encoded data removed]",
      "text/plain": [
       "Figure(PyObject <Figure size 200x200 with 1 Axes>)"
      ]
     },
     "metadata": {},
     "output_type": "display_data"
    },
    {
     "data": {
      "text/plain": [
       "1-element Array{PyCall.PyObject,1}:\n",
       " PyObject <matplotlib.lines.Line2D object at 0x7f910a0564a8>"
      ]
     },
     "execution_count": 68,
     "metadata": {},
     "output_type": "execute_result"
    }
   ],
   "source": [
    "plot(photons_in,photons_out[:,1])"
   ]
  },
  {
   "cell_type": "code",
   "execution_count": 69,
   "metadata": {},
   "outputs": [
    {
     "data": {
      "image/png": "[encoded data removed]",
      "text/plain": [
       "Figure(PyObject <Figure size 200x200 with 1 Axes>)"
      ]
     },
     "metadata": {},
     "output_type": "display_data"
    },
    {
     "data": {
      "text/plain": [
       "1-element Array{PyCall.PyObject,1}:\n",
       " PyObject <matplotlib.lines.Line2D object at 0x7f910a137710>"
      ]
     },
     "execution_count": 69,
     "metadata": {},
     "output_type": "execute_result"
    }
   ],
   "source": [
    "plot(photons_in, squeezing_dbl[:,1])"
   ]
  },
  {
   "cell_type": "markdown",
   "metadata": {},
   "source": [
    "## Usage example 3: same as above but for a triple sagnac"
   ]
  },
  {
   "cell_type": "code",
   "execution_count": null,
   "metadata": {},
   "outputs": [],
   "source": [
    "sim_fbs = sim(4,2^8,z_grid);\n",
    "\n",
    "power_list = [0.01:0.025:2;]*1e4;\n",
    "\n",
    "photons_in = zeros(length(power_list));\n",
    "photons_out = zeros(length(power_list),sim_fbs.num_modes);\n",
    "photons_fluc = 1.0im*zeros(length(power_list),sim_fbs.num_modes);\n",
    "\n",
    "V_vac = vacuum_V(sim_fbs);\n",
    "\n",
    "bs1 = beamsplitter([1,2],sqrt(0.1));\n",
    "fiber1 = fiber(1,fiber_index,L_fiber,fiber_dispersion,fiber_nonlinearity);\n",
    "fiber2 = fiber(2,fiber_index,L_fiber,fiber_dispersion,fiber_nonlinearity);\n",
    "bs2 = beamsplitter([1,2],sqrt(0.1));\n",
    "\n",
    "bs3 = beamsplitter([1,3],sqrt(0.1));\n",
    "fiber3 = fiber(1,fiber_index,L_fiber,fiber_dispersion,fiber_nonlinearity);\n",
    "fiber4 = fiber(3,fiber_index,L_fiber,fiber_dispersion,fiber_nonlinearity);\n",
    "bs4 = beamsplitter([1,3],sqrt(0.1));\n",
    "\n",
    "bs5 = beamsplitter([1,4],sqrt(0.1));\n",
    "fiber5 = fiber(1,fiber_index,L_fiber,fiber_dispersion,fiber_nonlinearity);\n",
    "fiber6 = fiber(4,fiber_index,L_fiber,fiber_dispersion,fiber_nonlinearity);\n",
    "bs6 = beamsplitter([1,4],sqrt(0.1));\n",
    "\n",
    "components = [bs1 fiber1 fiber2 bs2 bs3 fiber3 fiber4 bs4 bs5 fiber5 fiber6 bs6];\n",
    "\n",
    "for ii=1:length(power_list)\n",
    "    \n",
    "    # Initializing the mean fields of the initial state\n",
    "    center_amplitude = power_list[ii];\n",
    "    state_sagnac = state(1.0im*zeros((sim_fbs.num_modes)*(sim_fbs.N_z)),V_vac);\n",
    "    range_mode1 = get_row_index(1,fiber1.fiber_mode):get_row_index(N_z,fiber1.fiber_mode);\n",
    "    state_sagnac.mean_fields[range_mode1] .= center_amplitude * sech.(sim_fbs.z_grid/L_pulse);\n",
    "    photons_in[ii] = sum(abs2.(get_meanfield_i(state_sagnac,1)));\n",
    "    \n",
    "    # Solving for mean-field and fluctuation dynamics\n",
    "    prop_system(components,state_sagnac,sim_fbs,t_grid)\n",
    "    \n",
    "    for ss=1:sim_fbs.num_modes\n",
    "        photons_out[ii,ss] = sum(abs2.(get_meanfield_i(state_sagnac,ss)));\n",
    "        photons_fluc[ii,ss] = n2_exp(state_sagnac,ss,sim_fbs);\n",
    "    end\n",
    "    \n",
    "end"
   ]
  },
  {
   "cell_type": "code",
   "execution_count": null,
   "metadata": {},
   "outputs": [],
   "source": [
    "squeezing_trp = 10log10.(photons_fluc ./ photons_out);"
   ]
  },
  {
   "cell_type": "code",
   "execution_count": null,
   "metadata": {},
   "outputs": [],
   "source": [
    "plot(photons_in,photons_out[:,1])"
   ]
  },
  {
   "cell_type": "code",
   "execution_count": null,
   "metadata": {},
   "outputs": [],
   "source": [
    "plot(photons_in, squeezing_trp[:,1])"
   ]
  },
  {
   "cell_type": "markdown",
   "metadata": {},
   "source": [
    "## Usage example 4: mean-field transfer curves only for single, double, and triple Sagnac"
   ]
  },
  {
   "cell_type": "markdown",
   "metadata": {},
   "source": [
    "Single interferometer"
   ]
  },
  {
   "cell_type": "code",
   "execution_count": 15,
   "metadata": {},
   "outputs": [],
   "source": [
    "λ_center = 1560e-9;\n",
    "ω_center = 2*pi*c_light / λ_center;\n",
    "fiber_index = 1.47;\n",
    "v_group = c_light / fiber_index;\n",
    "fiber_dispersion = 1*22e3 * 1e-30 * v_group^3; # in m^2/s\n",
    "γ_fiber = 1.8*1e-3; # in 1/W/m.\n",
    "fiber_nonlinearity = ħ*(ω_center)*(v_group^2)*(γ_fiber);\n",
    "L_fiber = 10; # in meters\n",
    "T_fiber = L_fiber / v_group;\n",
    "\n",
    "# Pulse parameters - pulse time only makes sense for single-parameter pulses like sech / gaussian\n",
    "t_pulse = 100e-15; # in seconds\n",
    "L_pulse = v_group * t_pulse;\n",
    "\n",
    "L_sim = 50*L_pulse;\n",
    "N_z = 2^8;\n",
    "z_grid = collect(range(-L_sim/2,L_sim/2,length=N_z));\n",
    "\n",
    "N_t = 100;\n",
    "dt = T_fiber / N_t;\n",
    "t_grid = collect(range(0,T_fiber,length=N_t));"
   ]
  },
  {
   "cell_type": "code",
   "execution_count": 16,
   "metadata": {},
   "outputs": [],
   "source": [
    "sim_fbs = sim(2,2^8,z_grid);\n",
    "\n",
    "power_list = [0.01:0.01:2;]*1e4;\n",
    "\n",
    "photons_in = zeros(length(power_list));\n",
    "photons_out_1 = zeros(length(power_list));\n",
    "photons_out_2 = zeros(length(power_list));\n",
    "\n",
    "V_vac = vacuum_V(sim_fbs);\n",
    "\n",
    "BS1 = beamsplitter([1,2],sqrt(0.1));\n",
    "fiber1 = fiber(1,fiber_index,L_fiber,fiber_dispersion,fiber_nonlinearity);\n",
    "fiber2 = fiber(2,fiber_index,L_fiber,fiber_dispersion,fiber_nonlinearity);\n",
    "BS2 = beamsplitter([1,2],sqrt(0.1));\n",
    "\n",
    "components = [BS1 fiber1 fiber2 BS2];\n",
    "\n",
    "for ii=1:length(power_list)\n",
    "    \n",
    "    # Initializing the mean fields of the initial state\n",
    "    center_amplitude = power_list[ii];\n",
    "    state_sagnac = state(1.0im*zeros((sim_fbs.num_modes)*(sim_fbs.N_z)),V_vac);\n",
    "    range_mode1 = get_row_index(1,fiber1.fiber_mode):get_row_index(N_z,fiber1.fiber_mode);\n",
    "    state_sagnac.mean_fields[range_mode1] .= center_amplitude * sech.(sim_fbs.z_grid/L_pulse);\n",
    "    photons_in[ii] = sum(abs2.(get_meanfield_i(state_sagnac,1)));\n",
    "    prop_system_mean(components,state_sagnac,sim_fbs,t_grid)\n",
    "\n",
    "    photons_out_1[ii] = sum(abs2.(get_meanfield_i(state_sagnac,1)));\n",
    "    photons_out_2[ii] = sum(abs2.(get_meanfield_i(state_sagnac,2)));\n",
    "    \n",
    "end"
   ]
  },
  {
   "cell_type": "code",
   "execution_count": 17,
   "metadata": {},
   "outputs": [
    {
     "data": {
      "image/png": "[encoded data removed]",
      "text/plain": [
       "Figure(PyObject <Figure size 200x200 with 1 Axes>)"
      ]
     },
     "metadata": {},
     "output_type": "display_data"
    },
    {
     "data": {
      "text/plain": [
       "1-element Array{PyCall.PyObject,1}:\n",
       " PyObject <matplotlib.lines.Line2D object at 0x7f90aaedf3c8>"
      ]
     },
     "execution_count": 17,
     "metadata": {},
     "output_type": "execute_result"
    }
   ],
   "source": [
    "plot(photons_in,photons_out_1)\n",
    "plot(photons_in,photons_out_2)\n",
    "plot(photons_in,photons_out_1+photons_out_2)\n",
    "plot(photons_in,photons_in,\"--\")"
   ]
  },
  {
   "cell_type": "markdown",
   "metadata": {},
   "source": [
    "Double interferometer"
   ]
  },
  {
   "cell_type": "code",
   "execution_count": 18,
   "metadata": {},
   "outputs": [],
   "source": [
    "sim_fbs = sim(3,2^8,z_grid);\n",
    "\n",
    "power_list = [0.01:0.01:2;]*1e4;\n",
    "\n",
    "photons_in = zeros(length(power_list));\n",
    "photons_out_1 = zeros(length(power_list));\n",
    "photons_out_2 = zeros(length(power_list));\n",
    "photons_out_3 = zeros(length(power_list));\n",
    "\n",
    "V_vac = vacuum_V(sim_fbs);\n",
    "\n",
    "bs1 = beamsplitter([1,2],sqrt(0.09));\n",
    "fiber1 = fiber(1,fiber_index,L_fiber,fiber_dispersion,fiber_nonlinearity);\n",
    "fiber2 = fiber(2,fiber_index,L_fiber,fiber_dispersion,fiber_nonlinearity);\n",
    "bs2 = beamsplitter([1,2],sqrt(0.09));\n",
    "\n",
    "bs3 = beamsplitter([1,3],sqrt(0.01));\n",
    "fiber3 = fiber(1,fiber_index,L_fiber,fiber_dispersion,fiber_nonlinearity);\n",
    "fiber4 = fiber(3,fiber_index,L_fiber,fiber_dispersion,fiber_nonlinearity);\n",
    "bs4 = beamsplitter([1,3],sqrt(0.01));\n",
    "\n",
    "components = [bs1 fiber1 fiber2 bs2 bs3 fiber3 fiber4 bs4];\n",
    "\n",
    "for ii=1:length(power_list)\n",
    "    \n",
    "    # Initializing the mean fields of the initial state\n",
    "    center_amplitude = power_list[ii];\n",
    "    state_sagnac = state(1.0im*zeros((sim_fbs.num_modes)*(sim_fbs.N_z)),V_vac);\n",
    "    range_mode1 = get_row_index(1,fiber1.fiber_mode):get_row_index(N_z,fiber1.fiber_mode);\n",
    "    state_sagnac.mean_fields[range_mode1] .= center_amplitude * sech.(sim_fbs.z_grid/L_pulse);\n",
    "    photons_in[ii] = sum(abs2.(get_meanfield_i(state_sagnac,1)));\n",
    "    \n",
    "    prop_system_mean(components,state_sagnac,sim_fbs,t_grid)\n",
    "\n",
    "    photons_out_1[ii] = sum(abs2.(get_meanfield_i(state_sagnac,1)));\n",
    "    photons_out_2[ii] = sum(abs2.(get_meanfield_i(state_sagnac,2)));\n",
    "    photons_out_3[ii] = sum(abs2.(get_meanfield_i(state_sagnac,3)));\n",
    "    \n",
    "end"
   ]
  },
  {
   "cell_type": "code",
   "execution_count": 19,
   "metadata": {},
   "outputs": [
    {
     "data": {
      "image/png": "[encoded data removed]",
      "text/plain": [
       "Figure(PyObject <Figure size 200x200 with 1 Axes>)"
      ]
     },
     "metadata": {},
     "output_type": "display_data"
    },
    {
     "data": {
      "text/plain": [
       "1-element Array{PyCall.PyObject,1}:\n",
       " PyObject <matplotlib.lines.Line2D object at 0x7f908aaff2b0>"
      ]
     },
     "execution_count": 19,
     "metadata": {},
     "output_type": "execute_result"
    }
   ],
   "source": [
    "plot(photons_in,photons_out_1)\n",
    "plot(photons_in,photons_out_2)\n",
    "plot(photons_in,photons_out_3)\n",
    "plot(photons_in,photons_out_1+photons_out_2+photons_out_3)\n",
    "plot(photons_in,photons_in,\"--\")"
   ]
  },
  {
   "cell_type": "markdown",
   "metadata": {},
   "source": [
    "Triple interferometer"
   ]
  },
  {
   "cell_type": "code",
   "execution_count": 20,
   "metadata": {},
   "outputs": [],
   "source": [
    "λ_center = 1560e-9;\n",
    "ω_center = 2*pi*c_light / λ_center;\n",
    "fiber_index = 1.47;\n",
    "v_group = c_light / fiber_index;\n",
    "fiber_dispersion = 1*22e3 * 1e-30 * v_group^3; # in m^2/s\n",
    "γ_fiber = 1.8*1e-3; # in 1/W/m.\n",
    "fiber_nonlinearity = ħ*(ω_center)*(v_group^2)*(γ_fiber);\n",
    "L_fiber = 10; # in meters\n",
    "T_fiber = L_fiber / v_group;\n",
    "\n",
    "# Pulse parameters - pulse time only makes sense for single-parameter pulses like sech / gaussian\n",
    "t_pulse = 100e-15; # in seconds\n",
    "L_pulse = v_group * t_pulse;\n",
    "\n",
    "L_sim = 50*L_pulse;\n",
    "N_z = 2^8;\n",
    "z_grid = collect(range(-L_sim/2,L_sim/2,length=N_z));"
   ]
  },
  {
   "cell_type": "code",
   "execution_count": 21,
   "metadata": {},
   "outputs": [],
   "source": [
    "sim_fbs = sim(4,2^8,z_grid);\n",
    "\n",
    "power_list = [0.01:0.01:2;]*1e4;\n",
    "\n",
    "photons_in = zeros(length(power_list));\n",
    "photons_out_1 = zeros(length(power_list));\n",
    "photons_out_2 = zeros(length(power_list));\n",
    "photons_out_3 = zeros(length(power_list));\n",
    "photons_out_4 = zeros(length(power_list));\n",
    "\n",
    "V_vac = vacuum_V(sim_fbs);\n",
    "\n",
    "bs1 = beamsplitter([1,2],sqrt(0.08));\n",
    "fiber1 = fiber(1,fiber_index,L_fiber,fiber_dispersion,fiber_nonlinearity);\n",
    "fiber2 = fiber(2,fiber_index,L_fiber,fiber_dispersion,fiber_nonlinearity);\n",
    "bs2 = beamsplitter([1,2],sqrt(0.08));\n",
    "\n",
    "bs3 = beamsplitter([1,3],sqrt(0.01));\n",
    "fiber3 = fiber(1,fiber_index,L_fiber,fiber_dispersion,fiber_nonlinearity);\n",
    "fiber4 = fiber(3,fiber_index,L_fiber,fiber_dispersion,fiber_nonlinearity);\n",
    "bs4 = beamsplitter([1,3],sqrt(0.01));\n",
    "\n",
    "bs5 = beamsplitter([1,4],sqrt(0.01));\n",
    "fiber5 = fiber(1,fiber_index,L_fiber,fiber_dispersion,fiber_nonlinearity);\n",
    "fiber6 = fiber(4,fiber_index,L_fiber,fiber_dispersion,fiber_nonlinearity);\n",
    "bs6 = beamsplitter([1,4],sqrt(0.01));\n",
    "\n",
    "components = [bs1 fiber1 fiber2 bs2 bs3 fiber3 fiber4 bs4 bs5 fiber5 fiber6 bs6];\n",
    "\n",
    "for ii=1:length(power_list)\n",
    "    \n",
    "    # Initializing the mean fields of the initial state\n",
    "    center_amplitude = power_list[ii];\n",
    "    state_sagnac = state(1.0im*zeros((sim_fbs.num_modes)*(sim_fbs.N_z)),V_vac);\n",
    "    range_mode1 = get_row_index(1,fiber1.fiber_mode):get_row_index(N_z,fiber1.fiber_mode);\n",
    "    state_sagnac.mean_fields[range_mode1] .= center_amplitude * sech.(sim_fbs.z_grid/L_pulse);\n",
    "    photons_in[ii] = sum(abs2.(get_meanfield_i(state_sagnac,1)));\n",
    "    \n",
    "    prop_system_mean(components,state_sagnac,sim_fbs,t_grid)\n",
    "\n",
    "    photons_out_1[ii] = sum(abs2.(get_meanfield_i(state_sagnac,1)));\n",
    "    photons_out_2[ii] = sum(abs2.(get_meanfield_i(state_sagnac,2)));\n",
    "    photons_out_3[ii] = sum(abs2.(get_meanfield_i(state_sagnac,3)));\n",
    "    photons_out_4[ii] = sum(abs2.(get_meanfield_i(state_sagnac,4)));\n",
    "    \n",
    "end"
   ]
  },
  {
   "cell_type": "code",
   "execution_count": 22,
   "metadata": {},
   "outputs": [
    {
     "data": {
      "image/png": "[encoded data removed]",
      "text/plain": [
       "Figure(PyObject <Figure size 200x200 with 1 Axes>)"
      ]
     },
     "metadata": {},
     "output_type": "display_data"
    },
    {
     "data": {
      "text/plain": [
       "1-element Array{PyCall.PyObject,1}:\n",
       " PyObject <matplotlib.lines.Line2D object at 0x7f9098abe630>"
      ]
     },
     "execution_count": 22,
     "metadata": {},
     "output_type": "execute_result"
    }
   ],
   "source": [
    "plot(photons_in,photons_out_1)\n",
    "plot(photons_in,photons_out_2)\n",
    "plot(photons_in,photons_out_3)\n",
    "plot(photons_in,photons_out_4)\n",
    "plot(photons_in,photons_out_1+photons_out_2+photons_out_3+photons_out_4)\n",
    "plot(photons_in,photons_in,\"--\")"
   ]
  }
 ],
 "metadata": {
  "kernelspec": {
   "display_name": "Julia 1.1.1",
   "language": "julia",
   "name": "julia-1.1"
  },
  "language_info": {
   "file_extension": ".jl",
   "mimetype": "application/julia",
   "name": "julia",
   "version": "1.1.1"
  }
 },
 "nbformat": 4,
 "nbformat_minor": 2
}
