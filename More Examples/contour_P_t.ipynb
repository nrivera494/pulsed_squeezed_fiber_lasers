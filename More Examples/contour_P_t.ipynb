{
 "cells": [
  {
   "cell_type": "code",
   "execution_count": null,
   "metadata": {},
   "outputs": [],
   "source": [
    "#Include file containing functions and fundamental constants\n",
    "include(\"helpers.jl\")"
   ]
  },
  {
   "cell_type": "code",
   "execution_count": null,
   "metadata": {},
   "outputs": [],
   "source": [
    "λ_center = 1560e-9;\n",
    "ω_center = 2*pi*c_light / λ_center;\n",
    "fiber_index = 1.47;\n",
    "v_group = c_light / fiber_index;\n",
    "fiber_dispersion = 1*22e3 * 1e-30 * v_group^3; # in m^2/s\n",
    "γ_fiber = 1.8*1e-3; # in 1/W/m.\n",
    "fiber_nonlinearity = ħ*(ω_center)*(v_group^2)*(γ_fiber);\n",
    "L_fiber = 10; # in meters\n",
    "T_fiber = L_fiber / v_group;\n",
    "\n",
    "# Pulse parameters - pulse time only makes sense for single-parameter pulses like sech / gaussian\n",
    "t_pulse = 100e-15; # in seconds\n",
    "L_pulse = v_group * t_pulse;\n",
    "\n",
    "L_sim = 50*L_pulse;\n",
    "N_z = 2^8;\n",
    "z_grid = collect(range(-L_sim/2,L_sim/2,length=N_z));\n",
    "\n",
    "N_t = 200;\n",
    "dt = T_fiber / N_t;\n",
    "t_grid = collect(range(0,T_fiber,length=N_t));"
   ]
  },
  {
   "cell_type": "code",
   "execution_count": null,
   "metadata": {},
   "outputs": [],
   "source": [
    "sim_fbs = sim(2,2^8,z_grid)\n",
    "\n",
    "power_list = [0.01:0.08:2.5;]*1e8\n",
    "t_list = [0:0.015:0.3;]\n",
    "\n",
    "println(length(power_list))\n",
    "println(length(t_list))\n",
    "println(\"estimated time(min): \", length(t_list) * length(power_list) * 1.5)\n",
    "\n",
    "photons_in = zeros(length(power_list), length(t_list));\n",
    "photons_out = zeros(length(power_list), length(t_list),sim_fbs.num_modes);\n",
    "photons_fluc = 1.0im*zeros(length(power_list), length(t_list),sim_fbs.num_modes);\n",
    "\n",
    "V_vac = vacuum_V(sim_fbs);\n",
    "\n",
    "function power_loop(ii)\n",
    "    for jj=1:length(t_list)\n",
    "        println(ii)\n",
    "        println(jj)\n",
    "        println(\"(thread $(Threads.threadid()) of out $(Threads.nthreads()))\")\n",
    "\n",
    "        bs1 = beamsplitter([1,2],sqrt(t_list[jj]));\n",
    "        fiber1 = fiber(1,fiber_index,L_fiber,fiber_dispersion,fiber_nonlinearity);\n",
    "        fiber2 = fiber(2,fiber_index,L_fiber,fiber_dispersion,fiber_nonlinearity);\n",
    "        bs2 = beamsplitter([1,2],sqrt(t_list[jj]));\n",
    "\n",
    "        components = [bs1 fiber1 fiber2 bs2];\n",
    "\n",
    "        # Initializing the mean fields of the initial state\n",
    "        center_amplitude = sqrt(power_list[ii]);\n",
    "        state_sagnac = state(1.0im*zeros((sim_fbs.num_modes)*(sim_fbs.N_z)),V_vac);\n",
    "        range_mode1 = get_row_index(1,fiber1.fiber_mode):get_row_index(N_z,fiber1.fiber_mode);\n",
    "        state_sagnac.mean_fields[range_mode1] .= center_amplitude * sech.(sim_fbs.z_grid/L_pulse);\n",
    "        photons_in[ii,jj] = sum(abs2.(get_meanfield_i(state_sagnac,1)));\n",
    "\n",
    "        # Solving for mean-field and fluctuation dynamics\n",
    "        prop_system(components,state_sagnac,sim_fbs,t_grid);\n",
    "\n",
    "        for ss=1:sim_fbs.num_modes\n",
    "            photons_out[ii,jj,ss] = sum(abs2.(get_meanfield_i(state_sagnac,ss)));\n",
    "            photons_fluc[ii,jj,ss] = n2_exp(state_sagnac,ss,sim_fbs);\n",
    "        end\n",
    "\n",
    "    end\n",
    "    \n",
    "end\n",
    "\n",
    "Folds.map(power_loop, 1:length(power_list))"
   ]
  },
  {
   "cell_type": "code",
   "execution_count": null,
   "metadata": {},
   "outputs": [],
   "source": [
    "squeezing_sing = 10log10.(photons_fluc ./ photons_out);"
   ]
  },
  {
   "cell_type": "code",
   "execution_count": null,
   "metadata": {},
   "outputs": [],
   "source": [
    "        # Converts elements of power_list and T-list to indices of squeezing_sing array\n",
    "function f(x_var,y_var)\n",
    "    x_diff =power_list[2] - power_list[1]\n",
    "    y_diff = t_list[2] - t_list[1]\n",
    "    x_i = round(Int, (x_var - power_list[1])/x_diff) + 1\n",
    "    y_i = round(Int, (y_var - t_list[1])/y_diff) + 1\n",
    "    #println(x_i)\n",
    "    #println(y_i)\n",
    "    return real(squeezing_sing[x_i,y_i,1])\n",
    "end\n",
    "\n",
    "x = power_list\n",
    "y = t_list\n",
    "\n",
    "Plots.contour(x, y, f, fill=true, c=cgrad(:hot))\n",
    "Plots.xlabel!(\"Input Pulse Energy\")\n",
    "Plots.ylabel!(\"Splitting Coefficient\")"
   ]
  }
 ],
 "metadata": {
  "@webio": {
   "lastCommId": null,
   "lastKernelId": null
  },
  "kernelspec": {
   "display_name": "Julia 1.6.7",
   "language": "julia",
   "name": "julia-1.6"
  },
  "language_info": {
   "file_extension": ".jl",
   "mimetype": "application/julia",
   "name": "julia",
   "version": "1.6.7"
  }
 },
 "nbformat": 4,
 "nbformat_minor": 2
}
